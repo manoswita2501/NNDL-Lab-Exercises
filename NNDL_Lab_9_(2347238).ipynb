{
  "nbformat": 4,
  "nbformat_minor": 0,
  "metadata": {
    "colab": {
      "provenance": []
    },
    "kernelspec": {
      "name": "python3",
      "display_name": "Python 3"
    },
    "language_info": {
      "name": "python"
    }
  },
  "cells": [
    {
      "cell_type": "code",
      "execution_count": null,
      "metadata": {
        "id": "rFcE-WsJM8ob"
      },
      "outputs": [],
      "source": [
        "# Importing datasets\n",
        "import numpy as np\n",
        "import matplotlib.pyplot as plt\n",
        "from sklearn.model_selection import train_test_split\n",
        "from sklearn.linear_model import LogisticRegression\n",
        "from sklearn.metrics import accuracy_score, f1_score, classification_report\n",
        "import torch\n",
        "import torch.nn as nn\n",
        "import torch.optim as optim\n",
        "from torchvision import datasets, transforms"
      ]
    },
    {
      "cell_type": "markdown",
      "source": [
        "#### **Task 1: Loading and preprocessing the dataset**"
      ],
      "metadata": {
        "id": "Er_zhoIYOhKV"
      }
    },
    {
      "cell_type": "code",
      "source": [
        "transform = transforms.Compose([transforms.ToTensor(), transforms.Normalize((0.5,), (0.5,))])\n",
        "dataset = datasets.MNIST(root=\"./data\", train=True, transform=transform, download=True)\n",
        "test_dataset = datasets.MNIST(root=\"./data\", train=False, transform=transform, download=True)"
      ],
      "metadata": {
        "colab": {
          "base_uri": "https://localhost:8080/"
        },
        "id": "S-Eo79LqOJAl",
        "outputId": "cb20142a-0bd7-4f8b-bcb4-da0867b91bf5"
      },
      "execution_count": null,
      "outputs": [
        {
          "output_type": "stream",
          "name": "stdout",
          "text": [
            "Downloading http://yann.lecun.com/exdb/mnist/train-images-idx3-ubyte.gz\n",
            "Failed to download (trying next):\n",
            "HTTP Error 403: Forbidden\n",
            "\n",
            "Downloading https://ossci-datasets.s3.amazonaws.com/mnist/train-images-idx3-ubyte.gz\n",
            "Downloading https://ossci-datasets.s3.amazonaws.com/mnist/train-images-idx3-ubyte.gz to ./data/MNIST/raw/train-images-idx3-ubyte.gz\n"
          ]
        },
        {
          "output_type": "stream",
          "name": "stderr",
          "text": [
            "100%|██████████| 9.91M/9.91M [00:00<00:00, 52.5MB/s]\n"
          ]
        },
        {
          "output_type": "stream",
          "name": "stdout",
          "text": [
            "Extracting ./data/MNIST/raw/train-images-idx3-ubyte.gz to ./data/MNIST/raw\n",
            "\n",
            "Downloading http://yann.lecun.com/exdb/mnist/train-labels-idx1-ubyte.gz\n",
            "Failed to download (trying next):\n",
            "HTTP Error 403: Forbidden\n",
            "\n",
            "Downloading https://ossci-datasets.s3.amazonaws.com/mnist/train-labels-idx1-ubyte.gz\n",
            "Downloading https://ossci-datasets.s3.amazonaws.com/mnist/train-labels-idx1-ubyte.gz to ./data/MNIST/raw/train-labels-idx1-ubyte.gz\n"
          ]
        },
        {
          "output_type": "stream",
          "name": "stderr",
          "text": [
            "100%|██████████| 28.9k/28.9k [00:00<00:00, 1.69MB/s]"
          ]
        },
        {
          "output_type": "stream",
          "name": "stdout",
          "text": [
            "Extracting ./data/MNIST/raw/train-labels-idx1-ubyte.gz to ./data/MNIST/raw\n",
            "\n",
            "Downloading http://yann.lecun.com/exdb/mnist/t10k-images-idx3-ubyte.gz\n"
          ]
        },
        {
          "output_type": "stream",
          "name": "stderr",
          "text": [
            "\n"
          ]
        },
        {
          "output_type": "stream",
          "name": "stdout",
          "text": [
            "Failed to download (trying next):\n",
            "HTTP Error 403: Forbidden\n",
            "\n",
            "Downloading https://ossci-datasets.s3.amazonaws.com/mnist/t10k-images-idx3-ubyte.gz\n",
            "Downloading https://ossci-datasets.s3.amazonaws.com/mnist/t10k-images-idx3-ubyte.gz to ./data/MNIST/raw/t10k-images-idx3-ubyte.gz\n"
          ]
        },
        {
          "output_type": "stream",
          "name": "stderr",
          "text": [
            "100%|██████████| 1.65M/1.65M [00:00<00:00, 13.2MB/s]\n"
          ]
        },
        {
          "output_type": "stream",
          "name": "stdout",
          "text": [
            "Extracting ./data/MNIST/raw/t10k-images-idx3-ubyte.gz to ./data/MNIST/raw\n",
            "\n",
            "Downloading http://yann.lecun.com/exdb/mnist/t10k-labels-idx1-ubyte.gz\n",
            "Failed to download (trying next):\n",
            "HTTP Error 403: Forbidden\n",
            "\n",
            "Downloading https://ossci-datasets.s3.amazonaws.com/mnist/t10k-labels-idx1-ubyte.gz\n",
            "Downloading https://ossci-datasets.s3.amazonaws.com/mnist/t10k-labels-idx1-ubyte.gz to ./data/MNIST/raw/t10k-labels-idx1-ubyte.gz\n"
          ]
        },
        {
          "output_type": "stream",
          "name": "stderr",
          "text": [
            "100%|██████████| 4.54k/4.54k [00:00<00:00, 4.72MB/s]"
          ]
        },
        {
          "output_type": "stream",
          "name": "stdout",
          "text": [
            "Extracting ./data/MNIST/raw/t10k-labels-idx1-ubyte.gz to ./data/MNIST/raw\n",
            "\n"
          ]
        },
        {
          "output_type": "stream",
          "name": "stderr",
          "text": [
            "\n"
          ]
        }
      ]
    },
    {
      "cell_type": "code",
      "source": [
        "x_train, y_train = dataset.data.numpy(), dataset.targets.numpy()\n",
        "x_test, y_test = test_dataset.data.numpy(), test_dataset.targets.numpy()"
      ],
      "metadata": {
        "id": "dHSRQJEAOJDP"
      },
      "execution_count": null,
      "outputs": []
    },
    {
      "cell_type": "code",
      "source": [
        "x_train = x_train.reshape(-1, 28 * 28) / 255.0\n",
        "x_test = x_test.reshape(-1, 28 * 28) / 255.0"
      ],
      "metadata": {
        "id": "h7cW8UjSOJFo"
      },
      "execution_count": null,
      "outputs": []
    },
    {
      "cell_type": "markdown",
      "source": [
        "#### **Task 2: Defining the RBM**"
      ],
      "metadata": {
        "id": "NfSS9pf-b75Y"
      }
    },
    {
      "cell_type": "code",
      "source": [
        "class RBM(nn.Module):\n",
        "    def __init__(self, visible_units, hidden_units):\n",
        "        super(RBM, self).__init__()\n",
        "        self.W = nn.Parameter(torch.randn(visible_units, hidden_units) * 0.01)\n",
        "        self.h_bias = nn.Parameter(torch.zeros(hidden_units))\n",
        "        self.v_bias = nn.Parameter(torch.zeros(visible_units))\n",
        "\n",
        "    def forward(self, v):\n",
        "        h_prob = torch.sigmoid(torch.matmul(v, self.W) + self.h_bias)\n",
        "        h_sample = torch.bernoulli(h_prob)\n",
        "        return h_prob, h_sample\n",
        "\n",
        "    def backward(self, h):\n",
        "        v_prob = torch.sigmoid(torch.matmul(h, self.W.t()) + self.v_bias)\n",
        "        v_sample = torch.bernoulli(v_prob)\n",
        "        return v_prob, v_sample\n",
        "\n",
        "    def free_energy(self, v):\n",
        "        vbias_term = torch.matmul(v, self.v_bias)\n",
        "        hidden_term = torch.sum(torch.log(1 + torch.exp(torch.matmul(v, self.W) + self.h_bias)), dim=1)\n",
        "        return -vbias_term - hidden_term"
      ],
      "metadata": {
        "id": "HSDAkDuWOJI_"
      },
      "execution_count": null,
      "outputs": []
    },
    {
      "cell_type": "code",
      "source": [
        "# Initializing RBM\n",
        "visible_units = 28 * 28\n",
        "hidden_units = 128\n",
        "rbm = RBM(visible_units, hidden_units)\n",
        "optimizer = optim.SGD(rbm.parameters(), lr=0.01)"
      ],
      "metadata": {
        "id": "lxbRQmxMcFg6"
      },
      "execution_count": null,
      "outputs": []
    },
    {
      "cell_type": "code",
      "source": [
        "# Training RBM\n",
        "epochs = 50\n",
        "batch_size = 64\n",
        "train_data = torch.tensor(x_train, dtype=torch.float32)\n",
        "\n",
        "for epoch in range(epochs):\n",
        "    epoch_loss = 0\n",
        "    for i in range(0, len(train_data), batch_size):\n",
        "        batch = train_data[i:i+batch_size]\n",
        "        v0 = batch\n",
        "        h_prob, h_sample = rbm.forward(v0)\n",
        "        v_prob, v_sample = rbm.backward(h_sample)\n",
        "\n",
        "        loss = torch.mean(rbm.free_energy(v0) - rbm.free_energy(v_prob))\n",
        "        optimizer.zero_grad()\n",
        "        loss.backward()\n",
        "        optimizer.step()\n",
        "        epoch_loss += loss.item()\n",
        "\n",
        "    print(f\"Epoch {epoch + 1}/{epochs}, Loss: {epoch_loss:.4f}\")"
      ],
      "metadata": {
        "colab": {
          "base_uri": "https://localhost:8080/"
        },
        "id": "KkofxicacFjR",
        "outputId": "2e2d9dab-9202-48d6-d2a0-d9c53942452b"
      },
      "execution_count": null,
      "outputs": [
        {
          "output_type": "stream",
          "name": "stdout",
          "text": [
            "Epoch 1/50, Loss: -169390.0815\n",
            "Epoch 2/50, Loss: -169889.5801\n",
            "Epoch 3/50, Loss: -170298.7358\n",
            "Epoch 4/50, Loss: -170655.1295\n",
            "Epoch 5/50, Loss: -170975.6322\n",
            "Epoch 6/50, Loss: -171266.9633\n",
            "Epoch 7/50, Loss: -171523.8077\n",
            "Epoch 8/50, Loss: -171749.8174\n",
            "Epoch 9/50, Loss: -171953.0494\n",
            "Epoch 10/50, Loss: -172120.5948\n",
            "Epoch 11/50, Loss: -172265.7619\n",
            "Epoch 12/50, Loss: -172415.9013\n",
            "Epoch 13/50, Loss: -172557.8728\n",
            "Epoch 14/50, Loss: -172680.3294\n",
            "Epoch 15/50, Loss: -172782.8799\n",
            "Epoch 16/50, Loss: -172902.7679\n",
            "Epoch 17/50, Loss: -172989.4841\n",
            "Epoch 18/50, Loss: -173045.8194\n",
            "Epoch 19/50, Loss: -173121.3240\n",
            "Epoch 20/50, Loss: -173204.5628\n",
            "Epoch 21/50, Loss: -173276.4798\n",
            "Epoch 22/50, Loss: -173341.9573\n",
            "Epoch 23/50, Loss: -173390.6331\n",
            "Epoch 24/50, Loss: -173447.7654\n",
            "Epoch 25/50, Loss: -173495.5814\n",
            "Epoch 26/50, Loss: -173556.1113\n",
            "Epoch 27/50, Loss: -173587.0955\n",
            "Epoch 28/50, Loss: -173633.8551\n",
            "Epoch 29/50, Loss: -173654.5704\n",
            "Epoch 30/50, Loss: -173687.6646\n",
            "Epoch 31/50, Loss: -173697.6106\n",
            "Epoch 32/50, Loss: -173728.2238\n",
            "Epoch 33/50, Loss: -173765.8635\n",
            "Epoch 34/50, Loss: -173803.3820\n",
            "Epoch 35/50, Loss: -173822.3707\n",
            "Epoch 36/50, Loss: -173856.6849\n",
            "Epoch 37/50, Loss: -173870.1958\n",
            "Epoch 38/50, Loss: -173903.6071\n",
            "Epoch 39/50, Loss: -173937.8439\n",
            "Epoch 40/50, Loss: -173957.7340\n",
            "Epoch 41/50, Loss: -173970.7735\n",
            "Epoch 42/50, Loss: -173988.2900\n",
            "Epoch 43/50, Loss: -174002.0853\n",
            "Epoch 44/50, Loss: -174010.9574\n",
            "Epoch 45/50, Loss: -174018.0604\n",
            "Epoch 46/50, Loss: -174017.0395\n",
            "Epoch 47/50, Loss: -174039.1621\n",
            "Epoch 48/50, Loss: -174040.0244\n",
            "Epoch 49/50, Loss: -174055.3580\n",
            "Epoch 50/50, Loss: -174077.9835\n"
          ]
        }
      ]
    },
    {
      "cell_type": "markdown",
      "source": [
        "#### **Task 3: Extracting hidden representations**"
      ],
      "metadata": {
        "id": "zyX2mlBhcPNW"
      }
    },
    {
      "cell_type": "code",
      "source": [
        "train_hidden_features = rbm.forward(torch.tensor(x_train, dtype=torch.float32))[0].detach().numpy()\n",
        "test_hidden_features = rbm.forward(torch.tensor(x_test, dtype=torch.float32))[0].detach().numpy()\n",
        "\n",
        "np.save(\"train_hidden_features.npy\", train_hidden_features)\n",
        "np.save(\"test_hidden_features.npy\", test_hidden_features)"
      ],
      "metadata": {
        "id": "1Jl7VVOHcFlN"
      },
      "execution_count": null,
      "outputs": []
    },
    {
      "cell_type": "markdown",
      "source": [
        "#### **Task 4: Visualizing RBM weights**"
      ],
      "metadata": {
        "id": "uqUVye3jcYEk"
      }
    },
    {
      "cell_type": "code",
      "source": [
        "def visualize_weights(rbm, num_images=25, grid_size=(5, 5)):\n",
        "    weights = rbm.W.detach().numpy().T\n",
        "    fig, axes = plt.subplots(grid_size[0], grid_size[1], figsize=(10, 10))\n",
        "    for i, ax in enumerate(axes.flat):\n",
        "        if i < num_images:\n",
        "            img = weights[i].reshape(28, 28)\n",
        "            ax.imshow(img, cmap=\"gray\")\n",
        "            ax.axis(\"off\")\n",
        "        else:\n",
        "            ax.axis(\"off\")\n",
        "    plt.tight_layout()\n",
        "    plt.show()\n",
        "\n",
        "visualize_weights(rbm, num_images=25, grid_size=(5, 5))"
      ],
      "metadata": {
        "colab": {
          "base_uri": "https://localhost:8080/"
        },
        "id": "EZ93tHVicFn2",
        "outputId": "6874914a-ff22-4c4b-83ae-17fabcad5d64"
      },
      "execution_count": null,
      "outputs": [
        {
          "output_type": "display_data",
          "data": {
            "text/plain": [
              "<Figure size 1000x1000 with 25 Axes>"
            ],
            "image/png": "[encoded data removed]"
          },
          "metadata": {}
        }
      ]
    },
    {
      "cell_type": "markdown",
      "source": [
        "#### **Task 5: Training classifier on RBM features**"
      ],
      "metadata": {
        "id": "SnzAyMtrcoVI"
      }
    },
    {
      "cell_type": "code",
      "source": [
        "classifier = LogisticRegression(max_iter=1000, random_state=42)\n",
        "classifier.fit(train_hidden_features, y_train)\n",
        "y_pred = classifier.predict(test_hidden_features)\n",
        "\n",
        "accuracy = accuracy_score(y_test, y_pred)\n",
        "f1 = f1_score(y_test, y_pred, average=\"weighted\")"
      ],
      "metadata": {
        "id": "OU9GTD9bcFrR"
      },
      "execution_count": null,
      "outputs": []
    },
    {
      "cell_type": "code",
      "source": [
        "print(\"Performance with RBM Features:\")\n",
        "print(\"Accuracy:\", accuracy)\n",
        "print(\"F1 Score:\", f1)\n",
        "print(\"\\nClassification Report:\\n\", classification_report(y_test, y_pred))"
      ],
      "metadata": {
        "colab": {
          "base_uri": "https://localhost:8080/"
        },
        "id": "_rxXNeUwcyFf",
        "outputId": "080ebce6-9f5f-4b81-c425-9d9ecf910c7b"
      },
      "execution_count": null,
      "outputs": [
        {
          "output_type": "stream",
          "name": "stdout",
          "text": [
            "Performance with RBM Features:\n",
            "Accuracy: 0.9351\n",
            "F1 Score: 0.935048935071287\n",
            "\n",
            "Classification Report:\n",
            "               precision    recall  f1-score   support\n",
            "\n",
            "           0       0.97      0.98      0.97       980\n",
            "           1       0.97      0.98      0.98      1135\n",
            "           2       0.93      0.93      0.93      1032\n",
            "           3       0.92      0.93      0.93      1010\n",
            "           4       0.93      0.93      0.93       982\n",
            "           5       0.92      0.91      0.92       892\n",
            "           6       0.94      0.95      0.95       958\n",
            "           7       0.93      0.92      0.93      1028\n",
            "           8       0.91      0.91      0.91       974\n",
            "           9       0.91      0.91      0.91      1009\n",
            "\n",
            "    accuracy                           0.94     10000\n",
            "   macro avg       0.93      0.93      0.93     10000\n",
            "weighted avg       0.94      0.94      0.94     10000\n",
            "\n"
          ]
        }
      ]
    },
    {
      "cell_type": "markdown",
      "source": [
        "#### **Task 6: Comparing with raw pixel data**"
      ],
      "metadata": {
        "id": "u6fpTspGc5T7"
      }
    },
    {
      "cell_type": "code",
      "source": [
        "classifier_raw = LogisticRegression(max_iter=1000, random_state=42)\n",
        "classifier_raw.fit(x_train, y_train)\n",
        "y_pred_raw = classifier_raw.predict(x_test)\n",
        "\n",
        "accuracy_raw = accuracy_score(y_test, y_pred_raw)\n",
        "f1_raw = f1_score(y_test, y_pred_raw, average=\"weighted\")"
      ],
      "metadata": {
        "id": "2QRktSF3cu80"
      },
      "execution_count": null,
      "outputs": []
    },
    {
      "cell_type": "code",
      "source": [
        "print(\"Performance Comparison of RBM Features vs. Raw Pixels:\")\n",
        "print(f\"Accuracy with RBM Features: {accuracy:.4f}\")\n",
        "print(f\"Accuracy with Raw Pixels: {accuracy_raw:.4f}\")\n",
        "print(f\"F1-Score with RBM Features: {f1:.4f}\")\n",
        "print(f\"F1-Score with Raw Pixels: {f1_raw:.4f}\")"
      ],
      "metadata": {
        "colab": {
          "base_uri": "https://localhost:8080/"
        },
        "id": "dVz8eTJ4cvAB",
        "outputId": "dd661f4d-7672-4753-bc9b-c25663149bdc"
      },
      "execution_count": null,
      "outputs": [
        {
          "output_type": "stream",
          "name": "stdout",
          "text": [
            "Performance Comparison of RBM Features vs. Raw Pixels:\n",
            "Accuracy with RBM Features: 0.9351\n",
            "Accuracy with Raw Pixels: 0.9258\n",
            "F1-Score with RBM Features: 0.9350\n",
            "F1-Score with Raw Pixels: 0.9256\n"
          ]
        }
      ]
    }
  ]
}